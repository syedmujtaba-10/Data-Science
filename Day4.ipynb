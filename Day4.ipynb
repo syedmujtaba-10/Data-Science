{
 "cells": [
  {
   "cell_type": "code",
   "execution_count": 1,
   "id": "4ff19596",
   "metadata": {},
   "outputs": [],
   "source": [
    "import pandas as pd\n"
   ]
  },
  {
   "cell_type": "code",
   "execution_count": 2,
   "id": "8ca48633",
   "metadata": {},
   "outputs": [],
   "source": [
    "df=pd.read_csv(\"https://raw.githubusercontent.com/AmenaNajeeb/Data/master/data.csv\")"
   ]
  },
  {
   "cell_type": "code",
   "execution_count": 3,
   "id": "829c5f5b",
   "metadata": {},
   "outputs": [
    {
     "data": {
      "text/html": [
       "<div>\n",
       "<style scoped>\n",
       "    .dataframe tbody tr th:only-of-type {\n",
       "        vertical-align: middle;\n",
       "    }\n",
       "\n",
       "    .dataframe tbody tr th {\n",
       "        vertical-align: top;\n",
       "    }\n",
       "\n",
       "    .dataframe thead th {\n",
       "        text-align: right;\n",
       "    }\n",
       "</style>\n",
       "<table border=\"1\" class=\"dataframe\">\n",
       "  <thead>\n",
       "    <tr style=\"text-align: right;\">\n",
       "      <th></th>\n",
       "      <th>PassengerId</th>\n",
       "      <th>Survived</th>\n",
       "      <th>Pclass</th>\n",
       "      <th>Name</th>\n",
       "      <th>Sex</th>\n",
       "      <th>Age</th>\n",
       "      <th>SibSp</th>\n",
       "      <th>Parch</th>\n",
       "      <th>Ticket</th>\n",
       "      <th>Fare</th>\n",
       "      <th>Cabin</th>\n",
       "      <th>Embarked</th>\n",
       "    </tr>\n",
       "  </thead>\n",
       "  <tbody>\n",
       "    <tr>\n",
       "      <th>0</th>\n",
       "      <td>1</td>\n",
       "      <td>0</td>\n",
       "      <td>3</td>\n",
       "      <td>Braund, Mr. Owen Harris</td>\n",
       "      <td>male</td>\n",
       "      <td>22.0</td>\n",
       "      <td>1</td>\n",
       "      <td>0</td>\n",
       "      <td>A/5 21171</td>\n",
       "      <td>7.2500</td>\n",
       "      <td>NaN</td>\n",
       "      <td>S</td>\n",
       "    </tr>\n",
       "    <tr>\n",
       "      <th>1</th>\n",
       "      <td>2</td>\n",
       "      <td>1</td>\n",
       "      <td>1</td>\n",
       "      <td>Cumings, Mrs. John Bradley (Florence Briggs Th...</td>\n",
       "      <td>female</td>\n",
       "      <td>38.0</td>\n",
       "      <td>1</td>\n",
       "      <td>0</td>\n",
       "      <td>PC 17599</td>\n",
       "      <td>71.2833</td>\n",
       "      <td>C85</td>\n",
       "      <td>C</td>\n",
       "    </tr>\n",
       "    <tr>\n",
       "      <th>2</th>\n",
       "      <td>3</td>\n",
       "      <td>1</td>\n",
       "      <td>3</td>\n",
       "      <td>Heikkinen, Miss. Laina</td>\n",
       "      <td>female</td>\n",
       "      <td>26.0</td>\n",
       "      <td>0</td>\n",
       "      <td>0</td>\n",
       "      <td>STON/O2. 3101282</td>\n",
       "      <td>7.9250</td>\n",
       "      <td>NaN</td>\n",
       "      <td>S</td>\n",
       "    </tr>\n",
       "    <tr>\n",
       "      <th>3</th>\n",
       "      <td>4</td>\n",
       "      <td>1</td>\n",
       "      <td>1</td>\n",
       "      <td>Futrelle, Mrs. Jacques Heath (Lily May Peel)</td>\n",
       "      <td>female</td>\n",
       "      <td>35.0</td>\n",
       "      <td>1</td>\n",
       "      <td>0</td>\n",
       "      <td>113803</td>\n",
       "      <td>53.1000</td>\n",
       "      <td>C123</td>\n",
       "      <td>S</td>\n",
       "    </tr>\n",
       "    <tr>\n",
       "      <th>4</th>\n",
       "      <td>5</td>\n",
       "      <td>0</td>\n",
       "      <td>3</td>\n",
       "      <td>Allen, Mr. William Henry</td>\n",
       "      <td>male</td>\n",
       "      <td>35.0</td>\n",
       "      <td>0</td>\n",
       "      <td>0</td>\n",
       "      <td>373450</td>\n",
       "      <td>8.0500</td>\n",
       "      <td>NaN</td>\n",
       "      <td>S</td>\n",
       "    </tr>\n",
       "  </tbody>\n",
       "</table>\n",
       "</div>"
      ],
      "text/plain": [
       "   PassengerId  Survived  Pclass  \\\n",
       "0            1         0       3   \n",
       "1            2         1       1   \n",
       "2            3         1       3   \n",
       "3            4         1       1   \n",
       "4            5         0       3   \n",
       "\n",
       "                                                Name     Sex   Age  SibSp  \\\n",
       "0                            Braund, Mr. Owen Harris    male  22.0      1   \n",
       "1  Cumings, Mrs. John Bradley (Florence Briggs Th...  female  38.0      1   \n",
       "2                             Heikkinen, Miss. Laina  female  26.0      0   \n",
       "3       Futrelle, Mrs. Jacques Heath (Lily May Peel)  female  35.0      1   \n",
       "4                           Allen, Mr. William Henry    male  35.0      0   \n",
       "\n",
       "   Parch            Ticket     Fare Cabin Embarked  \n",
       "0      0         A/5 21171   7.2500   NaN        S  \n",
       "1      0          PC 17599  71.2833   C85        C  \n",
       "2      0  STON/O2. 3101282   7.9250   NaN        S  \n",
       "3      0            113803  53.1000  C123        S  \n",
       "4      0            373450   8.0500   NaN        S  "
      ]
     },
     "execution_count": 3,
     "metadata": {},
     "output_type": "execute_result"
    }
   ],
   "source": [
    "df.head()"
   ]
  },
  {
   "cell_type": "code",
   "execution_count": 4,
   "id": "8201f365",
   "metadata": {},
   "outputs": [
    {
     "ename": "TypeError",
     "evalue": "'Index' object is not callable",
     "output_type": "error",
     "traceback": [
      "\u001b[1;31m---------------------------------------------------------------------------\u001b[0m",
      "\u001b[1;31mTypeError\u001b[0m                                 Traceback (most recent call last)",
      "\u001b[1;32mC:\\Users\\SYEDMU~1\\AppData\\Local\\Temp/ipykernel_9940/2201091848.py\u001b[0m in \u001b[0;36m<module>\u001b[1;34m\u001b[0m\n\u001b[1;32m----> 1\u001b[1;33m \u001b[0mdf\u001b[0m\u001b[1;33m.\u001b[0m\u001b[0mcolumns\u001b[0m\u001b[1;33m(\u001b[0m\u001b[1;33m)\u001b[0m\u001b[1;33m\u001b[0m\u001b[1;33m\u001b[0m\u001b[0m\n\u001b[0m",
      "\u001b[1;31mTypeError\u001b[0m: 'Index' object is not callable"
     ]
    }
   ],
   "source": [
    "df.columns()"
   ]
  },
  {
   "cell_type": "code",
   "execution_count": 5,
   "id": "1d3ba2f7",
   "metadata": {},
   "outputs": [
    {
     "ename": "AttributeError",
     "evalue": "'DataFrame' object has no attribute 'column'",
     "output_type": "error",
     "traceback": [
      "\u001b[1;31m---------------------------------------------------------------------------\u001b[0m",
      "\u001b[1;31mAttributeError\u001b[0m                            Traceback (most recent call last)",
      "\u001b[1;32mC:\\Users\\SYEDMU~1\\AppData\\Local\\Temp/ipykernel_9940/1114064248.py\u001b[0m in \u001b[0;36m<module>\u001b[1;34m\u001b[0m\n\u001b[1;32m----> 1\u001b[1;33m \u001b[0mdf\u001b[0m\u001b[1;33m.\u001b[0m\u001b[0mcolumn\u001b[0m\u001b[1;33m(\u001b[0m\u001b[1;33m)\u001b[0m\u001b[1;33m\u001b[0m\u001b[1;33m\u001b[0m\u001b[0m\n\u001b[0m",
      "\u001b[1;32m~\\anaconda3\\lib\\site-packages\\pandas\\core\\generic.py\u001b[0m in \u001b[0;36m__getattr__\u001b[1;34m(self, name)\u001b[0m\n\u001b[0;32m   5485\u001b[0m         ):\n\u001b[0;32m   5486\u001b[0m             \u001b[1;32mreturn\u001b[0m \u001b[0mself\u001b[0m\u001b[1;33m[\u001b[0m\u001b[0mname\u001b[0m\u001b[1;33m]\u001b[0m\u001b[1;33m\u001b[0m\u001b[1;33m\u001b[0m\u001b[0m\n\u001b[1;32m-> 5487\u001b[1;33m         \u001b[1;32mreturn\u001b[0m \u001b[0mobject\u001b[0m\u001b[1;33m.\u001b[0m\u001b[0m__getattribute__\u001b[0m\u001b[1;33m(\u001b[0m\u001b[0mself\u001b[0m\u001b[1;33m,\u001b[0m \u001b[0mname\u001b[0m\u001b[1;33m)\u001b[0m\u001b[1;33m\u001b[0m\u001b[1;33m\u001b[0m\u001b[0m\n\u001b[0m\u001b[0;32m   5488\u001b[0m \u001b[1;33m\u001b[0m\u001b[0m\n\u001b[0;32m   5489\u001b[0m     \u001b[1;32mdef\u001b[0m \u001b[0m__setattr__\u001b[0m\u001b[1;33m(\u001b[0m\u001b[0mself\u001b[0m\u001b[1;33m,\u001b[0m \u001b[0mname\u001b[0m\u001b[1;33m:\u001b[0m \u001b[0mstr\u001b[0m\u001b[1;33m,\u001b[0m \u001b[0mvalue\u001b[0m\u001b[1;33m)\u001b[0m \u001b[1;33m->\u001b[0m \u001b[1;32mNone\u001b[0m\u001b[1;33m:\u001b[0m\u001b[1;33m\u001b[0m\u001b[1;33m\u001b[0m\u001b[0m\n",
      "\u001b[1;31mAttributeError\u001b[0m: 'DataFrame' object has no attribute 'column'"
     ]
    }
   ],
   "source": [
    "df.column()"
   ]
  },
  {
   "cell_type": "code",
   "execution_count": 6,
   "id": "35c1245d",
   "metadata": {},
   "outputs": [
    {
     "ename": "TypeError",
     "evalue": "'tuple' object is not callable",
     "output_type": "error",
     "traceback": [
      "\u001b[1;31m---------------------------------------------------------------------------\u001b[0m",
      "\u001b[1;31mTypeError\u001b[0m                                 Traceback (most recent call last)",
      "\u001b[1;32mC:\\Users\\SYEDMU~1\\AppData\\Local\\Temp/ipykernel_9940/1472378890.py\u001b[0m in \u001b[0;36m<module>\u001b[1;34m\u001b[0m\n\u001b[1;32m----> 1\u001b[1;33m \u001b[0mdf\u001b[0m\u001b[1;33m.\u001b[0m\u001b[0mshape\u001b[0m\u001b[1;33m(\u001b[0m\u001b[1;33m)\u001b[0m\u001b[1;33m\u001b[0m\u001b[1;33m\u001b[0m\u001b[0m\n\u001b[0m",
      "\u001b[1;31mTypeError\u001b[0m: 'tuple' object is not callable"
     ]
    }
   ],
   "source": [
    "df.shape()"
   ]
  },
  {
   "cell_type": "code",
   "execution_count": 7,
   "id": "3c4049a9",
   "metadata": {},
   "outputs": [
    {
     "data": {
      "text/plain": [
       "(891, 12)"
      ]
     },
     "execution_count": 7,
     "metadata": {},
     "output_type": "execute_result"
    }
   ],
   "source": [
    "df.shape"
   ]
  },
  {
   "cell_type": "code",
   "execution_count": 8,
   "id": "75ee44c5",
   "metadata": {},
   "outputs": [
    {
     "ename": "AttributeError",
     "evalue": "'DataFrame' object has no attribute 'column'",
     "output_type": "error",
     "traceback": [
      "\u001b[1;31m---------------------------------------------------------------------------\u001b[0m",
      "\u001b[1;31mAttributeError\u001b[0m                            Traceback (most recent call last)",
      "\u001b[1;32mC:\\Users\\SYEDMU~1\\AppData\\Local\\Temp/ipykernel_9940/1071123522.py\u001b[0m in \u001b[0;36m<module>\u001b[1;34m\u001b[0m\n\u001b[1;32m----> 1\u001b[1;33m \u001b[0mdf\u001b[0m\u001b[1;33m.\u001b[0m\u001b[0mcolumn\u001b[0m\u001b[1;33m\u001b[0m\u001b[1;33m\u001b[0m\u001b[0m\n\u001b[0m",
      "\u001b[1;32m~\\anaconda3\\lib\\site-packages\\pandas\\core\\generic.py\u001b[0m in \u001b[0;36m__getattr__\u001b[1;34m(self, name)\u001b[0m\n\u001b[0;32m   5485\u001b[0m         ):\n\u001b[0;32m   5486\u001b[0m             \u001b[1;32mreturn\u001b[0m \u001b[0mself\u001b[0m\u001b[1;33m[\u001b[0m\u001b[0mname\u001b[0m\u001b[1;33m]\u001b[0m\u001b[1;33m\u001b[0m\u001b[1;33m\u001b[0m\u001b[0m\n\u001b[1;32m-> 5487\u001b[1;33m         \u001b[1;32mreturn\u001b[0m \u001b[0mobject\u001b[0m\u001b[1;33m.\u001b[0m\u001b[0m__getattribute__\u001b[0m\u001b[1;33m(\u001b[0m\u001b[0mself\u001b[0m\u001b[1;33m,\u001b[0m \u001b[0mname\u001b[0m\u001b[1;33m)\u001b[0m\u001b[1;33m\u001b[0m\u001b[1;33m\u001b[0m\u001b[0m\n\u001b[0m\u001b[0;32m   5488\u001b[0m \u001b[1;33m\u001b[0m\u001b[0m\n\u001b[0;32m   5489\u001b[0m     \u001b[1;32mdef\u001b[0m \u001b[0m__setattr__\u001b[0m\u001b[1;33m(\u001b[0m\u001b[0mself\u001b[0m\u001b[1;33m,\u001b[0m \u001b[0mname\u001b[0m\u001b[1;33m:\u001b[0m \u001b[0mstr\u001b[0m\u001b[1;33m,\u001b[0m \u001b[0mvalue\u001b[0m\u001b[1;33m)\u001b[0m \u001b[1;33m->\u001b[0m \u001b[1;32mNone\u001b[0m\u001b[1;33m:\u001b[0m\u001b[1;33m\u001b[0m\u001b[1;33m\u001b[0m\u001b[0m\n",
      "\u001b[1;31mAttributeError\u001b[0m: 'DataFrame' object has no attribute 'column'"
     ]
    }
   ],
   "source": [
    "df.column"
   ]
  },
  {
   "cell_type": "code",
   "execution_count": 10,
   "id": "e5b72860",
   "metadata": {},
   "outputs": [],
   "source": [
    "del df['Cabin']"
   ]
  },
  {
   "cell_type": "code",
   "execution_count": 11,
   "id": "895c7770",
   "metadata": {},
   "outputs": [],
   "source": [
    "del df['PassengerId']"
   ]
  },
  {
   "cell_type": "code",
   "execution_count": 12,
   "id": "c33bec8f",
   "metadata": {},
   "outputs": [],
   "source": [
    "del df['Ticket']"
   ]
  },
  {
   "cell_type": "code",
   "execution_count": 13,
   "id": "331bd9c0",
   "metadata": {},
   "outputs": [],
   "source": [
    "del df['Name']"
   ]
  },
  {
   "cell_type": "code",
   "execution_count": 14,
   "id": "a9be89a4",
   "metadata": {},
   "outputs": [
    {
     "data": {
      "text/plain": [
       "(891, 8)"
      ]
     },
     "execution_count": 14,
     "metadata": {},
     "output_type": "execute_result"
    }
   ],
   "source": [
    "df.shape"
   ]
  },
  {
   "cell_type": "code",
   "execution_count": 16,
   "id": "c222b1cb",
   "metadata": {},
   "outputs": [
    {
     "data": {
      "text/plain": [
       "Survived      0\n",
       "Pclass        0\n",
       "Sex           0\n",
       "Age         177\n",
       "SibSp         0\n",
       "Parch         0\n",
       "Fare          0\n",
       "Embarked      2\n",
       "dtype: int64"
      ]
     },
     "execution_count": 16,
     "metadata": {},
     "output_type": "execute_result"
    }
   ],
   "source": [
    "df.isnull().sum()"
   ]
  },
  {
   "cell_type": "code",
   "execution_count": 17,
   "id": "3c69706f",
   "metadata": {},
   "outputs": [
    {
     "data": {
      "text/plain": [
       "29.69911764705882"
      ]
     },
     "execution_count": 17,
     "metadata": {},
     "output_type": "execute_result"
    }
   ],
   "source": [
    "df['Age'].mean()"
   ]
  },
  {
   "cell_type": "code",
   "execution_count": 18,
   "id": "034e3046",
   "metadata": {},
   "outputs": [],
   "source": [
    "df['Age']=df['Age'].fillna(30)"
   ]
  },
  {
   "cell_type": "code",
   "execution_count": 19,
   "id": "be726179",
   "metadata": {},
   "outputs": [],
   "source": [
    "df['Embarked']=df['Embarked'].fillna('S')"
   ]
  },
  {
   "cell_type": "code",
   "execution_count": 20,
   "id": "b5bc6a77",
   "metadata": {},
   "outputs": [
    {
     "data": {
      "text/plain": [
       "Survived    0\n",
       "Pclass      0\n",
       "Sex         0\n",
       "Age         0\n",
       "SibSp       0\n",
       "Parch       0\n",
       "Fare        0\n",
       "Embarked    0\n",
       "dtype: int64"
      ]
     },
     "execution_count": 20,
     "metadata": {},
     "output_type": "execute_result"
    }
   ],
   "source": [
    "df.isnull().sum()"
   ]
  },
  {
   "cell_type": "code",
   "execution_count": 21,
   "id": "c7e255fd",
   "metadata": {},
   "outputs": [],
   "source": [
    "from sklearn.preprocessing import LabelEncoder"
   ]
  },
  {
   "cell_type": "code",
   "execution_count": 22,
   "id": "91b43620",
   "metadata": {},
   "outputs": [],
   "source": [
    "le=LabelEncoder()"
   ]
  },
  {
   "cell_type": "code",
   "execution_count": 23,
   "id": "1b6b730c",
   "metadata": {},
   "outputs": [],
   "source": [
    "var=df.select_dtypes('object').columns"
   ]
  },
  {
   "cell_type": "code",
   "execution_count": 24,
   "id": "f7e088ac",
   "metadata": {},
   "outputs": [
    {
     "data": {
      "text/plain": [
       "Index(['Sex', 'Embarked'], dtype='object')"
      ]
     },
     "execution_count": 24,
     "metadata": {},
     "output_type": "execute_result"
    }
   ],
   "source": [
    "var"
   ]
  },
  {
   "cell_type": "code",
   "execution_count": 25,
   "id": "f3d82720",
   "metadata": {},
   "outputs": [],
   "source": [
    "for i in var:\n",
    "    df[i]=le.fit_transform(df[i])"
   ]
  },
  {
   "cell_type": "code",
   "execution_count": 26,
   "id": "fa2fc34d",
   "metadata": {},
   "outputs": [
    {
     "data": {
      "text/html": [
       "<div>\n",
       "<style scoped>\n",
       "    .dataframe tbody tr th:only-of-type {\n",
       "        vertical-align: middle;\n",
       "    }\n",
       "\n",
       "    .dataframe tbody tr th {\n",
       "        vertical-align: top;\n",
       "    }\n",
       "\n",
       "    .dataframe thead th {\n",
       "        text-align: right;\n",
       "    }\n",
       "</style>\n",
       "<table border=\"1\" class=\"dataframe\">\n",
       "  <thead>\n",
       "    <tr style=\"text-align: right;\">\n",
       "      <th></th>\n",
       "      <th>Survived</th>\n",
       "      <th>Pclass</th>\n",
       "      <th>Sex</th>\n",
       "      <th>Age</th>\n",
       "      <th>SibSp</th>\n",
       "      <th>Parch</th>\n",
       "      <th>Fare</th>\n",
       "      <th>Embarked</th>\n",
       "    </tr>\n",
       "  </thead>\n",
       "  <tbody>\n",
       "    <tr>\n",
       "      <th>0</th>\n",
       "      <td>0</td>\n",
       "      <td>3</td>\n",
       "      <td>1</td>\n",
       "      <td>22.0</td>\n",
       "      <td>1</td>\n",
       "      <td>0</td>\n",
       "      <td>7.2500</td>\n",
       "      <td>2</td>\n",
       "    </tr>\n",
       "    <tr>\n",
       "      <th>1</th>\n",
       "      <td>1</td>\n",
       "      <td>1</td>\n",
       "      <td>0</td>\n",
       "      <td>38.0</td>\n",
       "      <td>1</td>\n",
       "      <td>0</td>\n",
       "      <td>71.2833</td>\n",
       "      <td>0</td>\n",
       "    </tr>\n",
       "  </tbody>\n",
       "</table>\n",
       "</div>"
      ],
      "text/plain": [
       "   Survived  Pclass  Sex   Age  SibSp  Parch     Fare  Embarked\n",
       "0         0       3    1  22.0      1      0   7.2500         2\n",
       "1         1       1    0  38.0      1      0  71.2833         0"
      ]
     },
     "execution_count": 26,
     "metadata": {},
     "output_type": "execute_result"
    }
   ],
   "source": [
    "df.head(2)"
   ]
  },
  {
   "cell_type": "code",
   "execution_count": 27,
   "id": "1f189cbe",
   "metadata": {},
   "outputs": [],
   "source": [
    "x=df.drop(['Survived'],axis=1)\n",
    "y=df['Survived']"
   ]
  },
  {
   "cell_type": "code",
   "execution_count": 28,
   "id": "e03a62ac",
   "metadata": {},
   "outputs": [
    {
     "data": {
      "text/html": [
       "<div>\n",
       "<style scoped>\n",
       "    .dataframe tbody tr th:only-of-type {\n",
       "        vertical-align: middle;\n",
       "    }\n",
       "\n",
       "    .dataframe tbody tr th {\n",
       "        vertical-align: top;\n",
       "    }\n",
       "\n",
       "    .dataframe thead th {\n",
       "        text-align: right;\n",
       "    }\n",
       "</style>\n",
       "<table border=\"1\" class=\"dataframe\">\n",
       "  <thead>\n",
       "    <tr style=\"text-align: right;\">\n",
       "      <th></th>\n",
       "      <th>Pclass</th>\n",
       "      <th>Sex</th>\n",
       "      <th>Age</th>\n",
       "      <th>SibSp</th>\n",
       "      <th>Parch</th>\n",
       "      <th>Fare</th>\n",
       "      <th>Embarked</th>\n",
       "    </tr>\n",
       "  </thead>\n",
       "  <tbody>\n",
       "    <tr>\n",
       "      <th>0</th>\n",
       "      <td>3</td>\n",
       "      <td>1</td>\n",
       "      <td>22.0</td>\n",
       "      <td>1</td>\n",
       "      <td>0</td>\n",
       "      <td>7.2500</td>\n",
       "      <td>2</td>\n",
       "    </tr>\n",
       "    <tr>\n",
       "      <th>1</th>\n",
       "      <td>1</td>\n",
       "      <td>0</td>\n",
       "      <td>38.0</td>\n",
       "      <td>1</td>\n",
       "      <td>0</td>\n",
       "      <td>71.2833</td>\n",
       "      <td>0</td>\n",
       "    </tr>\n",
       "  </tbody>\n",
       "</table>\n",
       "</div>"
      ],
      "text/plain": [
       "   Pclass  Sex   Age  SibSp  Parch     Fare  Embarked\n",
       "0       3    1  22.0      1      0   7.2500         2\n",
       "1       1    0  38.0      1      0  71.2833         0"
      ]
     },
     "execution_count": 28,
     "metadata": {},
     "output_type": "execute_result"
    }
   ],
   "source": [
    "x.head(2)"
   ]
  },
  {
   "cell_type": "code",
   "execution_count": 29,
   "id": "15ac695e",
   "metadata": {},
   "outputs": [],
   "source": [
    "from sklearn.model_selection import train_test_split"
   ]
  },
  {
   "cell_type": "code",
   "execution_count": 30,
   "id": "d5d6825c",
   "metadata": {},
   "outputs": [
    {
     "data": {
      "text/plain": [
       "0    0\n",
       "1    1\n",
       "2    1\n",
       "3    1\n",
       "4    0\n",
       "Name: Survived, dtype: int64"
      ]
     },
     "execution_count": 30,
     "metadata": {},
     "output_type": "execute_result"
    }
   ],
   "source": [
    "y.head()"
   ]
  },
  {
   "cell_type": "code",
   "execution_count": 35,
   "id": "f68867fa",
   "metadata": {},
   "outputs": [],
   "source": [
    "x_train,x_test,y_train,y_test=train_test_split(x,y,test_size=0.15,random_state=0)"
   ]
  },
  {
   "cell_type": "code",
   "execution_count": 36,
   "id": "c2a442a7",
   "metadata": {},
   "outputs": [],
   "source": [
    "from sklearn.tree import DecisionTreeClassifier"
   ]
  },
  {
   "cell_type": "code",
   "execution_count": 37,
   "id": "38f13b00",
   "metadata": {},
   "outputs": [],
   "source": [
    "model=DecisionTreeClassifier()"
   ]
  },
  {
   "cell_type": "code",
   "execution_count": 38,
   "id": "687ce8a9",
   "metadata": {},
   "outputs": [
    {
     "data": {
      "text/plain": [
       "DecisionTreeClassifier()"
      ]
     },
     "execution_count": 38,
     "metadata": {},
     "output_type": "execute_result"
    }
   ],
   "source": [
    "model.fit(x_train,y_train)"
   ]
  },
  {
   "cell_type": "code",
   "execution_count": 39,
   "id": "72fb1f44",
   "metadata": {},
   "outputs": [],
   "source": [
    "y_pred=model.predict(x_test)"
   ]
  },
  {
   "cell_type": "code",
   "execution_count": 40,
   "id": "5039c923",
   "metadata": {},
   "outputs": [
    {
     "data": {
      "text/plain": [
       "array([0, 0, 0, 1, 0], dtype=int64)"
      ]
     },
     "execution_count": 40,
     "metadata": {},
     "output_type": "execute_result"
    }
   ],
   "source": [
    "y_pred[:5]"
   ]
  },
  {
   "cell_type": "code",
   "execution_count": 41,
   "id": "1fcdf91c",
   "metadata": {},
   "outputs": [
    {
     "data": {
      "text/plain": [
       "495    0\n",
       "648    0\n",
       "278    0\n",
       "31     1\n",
       "255    1\n",
       "Name: Survived, dtype: int64"
      ]
     },
     "execution_count": 41,
     "metadata": {},
     "output_type": "execute_result"
    }
   ],
   "source": [
    "y_test[:5]"
   ]
  },
  {
   "cell_type": "code",
   "execution_count": 42,
   "id": "8d32a062",
   "metadata": {},
   "outputs": [
    {
     "name": "stdout",
     "output_type": "stream",
     "text": [
      "Training Accuracy:  0.9775429326287979\n"
     ]
    }
   ],
   "source": [
    "model.score(x_train,y_train)\n",
    "print(\"Training Accuracy: \",model.score(x_train,y_train))"
   ]
  },
  {
   "cell_type": "code",
   "execution_count": 43,
   "id": "724f95e2",
   "metadata": {},
   "outputs": [
    {
     "name": "stdout",
     "output_type": "stream",
     "text": [
      "Train Accuracy:  0.9775429326287979\n",
      "Test Accuracy:  0.7910447761194029\n"
     ]
    }
   ],
   "source": [
    "print(\"Train Accuracy: \",model.score(x_train,y_train))\n",
    "print(\"Test Accuracy: \",model.score(x_test,y_test))"
   ]
  },
  {
   "cell_type": "code",
   "execution_count": 44,
   "id": "39113d2b",
   "metadata": {},
   "outputs": [],
   "source": [
    "from sklearn import tree"
   ]
  },
  {
   "cell_type": "code",
   "execution_count": 45,
   "id": "f064c4b8",
   "metadata": {},
   "outputs": [
    {
     "data": {
      "text/plain": [
       "[Text(96.31931669137774, 212.004, 'X[1] <= 0.5\\ngini = 0.471\\nsamples = 757\\nvalue = [470, 287]'),\n",
       " Text(45.89753649635037, 201.132, 'X[0] <= 2.5\\ngini = 0.385\\nsamples = 265\\nvalue = [69, 196]'),\n",
       " Text(19.55036496350365, 190.26, 'X[2] <= 2.5\\ngini = 0.108\\nsamples = 140\\nvalue = [8, 132]'),\n",
       " Text(17.106569343065694, 179.388, 'gini = 0.0\\nsamples = 1\\nvalue = [1, 0]'),\n",
       " Text(21.994160583941607, 179.388, 'X[5] <= 28.856\\ngini = 0.096\\nsamples = 139\\nvalue = [7, 132]'),\n",
       " Text(17.106569343065694, 168.516, 'X[5] <= 28.231\\ngini = 0.194\\nsamples = 55\\nvalue = [6, 49]'),\n",
       " Text(14.662773722627737, 157.644, 'X[2] <= 56.0\\ngini = 0.168\\nsamples = 54\\nvalue = [5, 49]'),\n",
       " Text(9.775182481751825, 146.772, 'X[4] <= 0.5\\ngini = 0.142\\nsamples = 52\\nvalue = [4, 48]'),\n",
       " Text(7.331386861313868, 135.9, 'X[5] <= 12.675\\ngini = 0.193\\nsamples = 37\\nvalue = [4, 33]'),\n",
       " Text(4.887591240875913, 125.02799999999999, 'gini = 0.0\\nsamples = 8\\nvalue = [0, 8]'),\n",
       " Text(9.775182481751825, 125.02799999999999, 'X[2] <= 27.5\\ngini = 0.238\\nsamples = 29\\nvalue = [4, 25]'),\n",
       " Text(4.887591240875913, 114.156, 'X[2] <= 23.5\\ngini = 0.408\\nsamples = 7\\nvalue = [2, 5]'),\n",
       " Text(2.4437956204379563, 103.28399999999999, 'gini = 0.0\\nsamples = 3\\nvalue = [0, 3]'),\n",
       " Text(7.331386861313868, 103.28399999999999, 'X[6] <= 1.0\\ngini = 0.5\\nsamples = 4\\nvalue = [2, 2]'),\n",
       " Text(4.887591240875913, 92.412, 'gini = 0.0\\nsamples = 1\\nvalue = [0, 1]'),\n",
       " Text(9.775182481751825, 92.412, 'X[2] <= 25.5\\ngini = 0.444\\nsamples = 3\\nvalue = [2, 1]'),\n",
       " Text(7.331386861313868, 81.53999999999999, 'gini = 0.5\\nsamples = 2\\nvalue = [1, 1]'),\n",
       " Text(12.218978102189782, 81.53999999999999, 'gini = 0.0\\nsamples = 1\\nvalue = [1, 0]'),\n",
       " Text(14.662773722627737, 114.156, 'X[2] <= 37.0\\ngini = 0.165\\nsamples = 22\\nvalue = [2, 20]'),\n",
       " Text(12.218978102189782, 103.28399999999999, 'gini = 0.0\\nsamples = 13\\nvalue = [0, 13]'),\n",
       " Text(17.106569343065694, 103.28399999999999, 'X[2] <= 39.0\\ngini = 0.346\\nsamples = 9\\nvalue = [2, 7]'),\n",
       " Text(14.662773722627737, 92.412, 'gini = 0.0\\nsamples = 1\\nvalue = [1, 0]'),\n",
       " Text(19.55036496350365, 92.412, 'X[3] <= 0.5\\ngini = 0.219\\nsamples = 8\\nvalue = [1, 7]'),\n",
       " Text(17.106569343065694, 81.53999999999999, 'gini = 0.0\\nsamples = 6\\nvalue = [0, 6]'),\n",
       " Text(21.994160583941607, 81.53999999999999, 'X[2] <= 43.0\\ngini = 0.5\\nsamples = 2\\nvalue = [1, 1]'),\n",
       " Text(19.55036496350365, 70.668, 'gini = 0.0\\nsamples = 1\\nvalue = [0, 1]'),\n",
       " Text(24.437956204379564, 70.668, 'gini = 0.0\\nsamples = 1\\nvalue = [1, 0]'),\n",
       " Text(12.218978102189782, 135.9, 'gini = 0.0\\nsamples = 15\\nvalue = [0, 15]'),\n",
       " Text(19.55036496350365, 146.772, 'X[2] <= 57.5\\ngini = 0.5\\nsamples = 2\\nvalue = [1, 1]'),\n",
       " Text(17.106569343065694, 135.9, 'gini = 0.0\\nsamples = 1\\nvalue = [1, 0]'),\n",
       " Text(21.994160583941607, 135.9, 'gini = 0.0\\nsamples = 1\\nvalue = [0, 1]'),\n",
       " Text(19.55036496350365, 157.644, 'gini = 0.0\\nsamples = 1\\nvalue = [1, 0]'),\n",
       " Text(26.88175182481752, 168.516, 'X[5] <= 149.035\\ngini = 0.024\\nsamples = 84\\nvalue = [1, 83]'),\n",
       " Text(24.437956204379564, 157.644, 'gini = 0.0\\nsamples = 72\\nvalue = [0, 72]'),\n",
       " Text(29.325547445255474, 157.644, 'X[5] <= 152.506\\ngini = 0.153\\nsamples = 12\\nvalue = [1, 11]'),\n",
       " Text(26.88175182481752, 146.772, 'gini = 0.0\\nsamples = 1\\nvalue = [1, 0]'),\n",
       " Text(31.76934306569343, 146.772, 'gini = 0.0\\nsamples = 11\\nvalue = [0, 11]'),\n",
       " Text(72.24470802919708, 190.26, 'X[5] <= 23.35\\ngini = 0.5\\nsamples = 125\\nvalue = [61, 64]'),\n",
       " Text(57.73467153284672, 179.388, 'X[2] <= 36.5\\ngini = 0.481\\nsamples = 102\\nvalue = [41, 61]'),\n",
       " Text(55.29087591240876, 168.516, 'X[5] <= 7.888\\ngini = 0.463\\nsamples = 96\\nvalue = [35, 61]'),\n",
       " Text(43.988321167883214, 157.644, 'X[2] <= 30.25\\ngini = 0.368\\nsamples = 37\\nvalue = [9, 28]'),\n",
       " Text(41.544525547445254, 146.772, 'X[5] <= 6.987\\ngini = 0.32\\nsamples = 35\\nvalue = [7, 28]'),\n",
       " Text(39.1007299270073, 135.9, 'gini = 0.0\\nsamples = 1\\nvalue = [1, 0]'),\n",
       " Text(43.988321167883214, 135.9, 'X[4] <= 1.0\\ngini = 0.291\\nsamples = 34\\nvalue = [6, 28]'),\n",
       " Text(41.544525547445254, 125.02799999999999, 'X[6] <= 1.5\\ngini = 0.257\\nsamples = 33\\nvalue = [5, 28]'),\n",
       " Text(31.76934306569343, 114.156, 'X[5] <= 7.681\\ngini = 0.159\\nsamples = 23\\nvalue = [2, 21]'),\n",
       " Text(26.88175182481752, 103.28399999999999, 'X[6] <= 0.5\\ngini = 0.375\\nsamples = 4\\nvalue = [1, 3]'),\n",
       " Text(24.437956204379564, 92.412, 'gini = 0.0\\nsamples = 3\\nvalue = [0, 3]'),\n",
       " Text(29.325547445255474, 92.412, 'gini = 0.0\\nsamples = 1\\nvalue = [1, 0]'),\n",
       " Text(36.65693430656935, 103.28399999999999, 'X[5] <= 7.769\\ngini = 0.1\\nsamples = 19\\nvalue = [1, 18]'),\n",
       " Text(34.21313868613139, 92.412, 'X[2] <= 26.0\\ngini = 0.142\\nsamples = 13\\nvalue = [1, 12]'),\n",
       " Text(31.76934306569343, 81.53999999999999, 'gini = 0.0\\nsamples = 3\\nvalue = [0, 3]'),\n",
       " Text(36.65693430656935, 81.53999999999999, 'X[5] <= 7.744\\ngini = 0.18\\nsamples = 10\\nvalue = [1, 9]'),\n",
       " Text(34.21313868613139, 70.668, 'gini = 0.0\\nsamples = 2\\nvalue = [0, 2]'),\n",
       " Text(39.1007299270073, 70.668, 'gini = 0.219\\nsamples = 8\\nvalue = [1, 7]'),\n",
       " Text(39.1007299270073, 92.412, 'gini = 0.0\\nsamples = 6\\nvalue = [0, 6]'),\n",
       " Text(51.31970802919708, 114.156, 'X[2] <= 24.0\\ngini = 0.42\\nsamples = 10\\nvalue = [3, 7]'),\n",
       " Text(46.43211678832117, 103.28399999999999, 'X[2] <= 18.5\\ngini = 0.245\\nsamples = 7\\nvalue = [1, 6]'),\n",
       " Text(43.988321167883214, 92.412, 'X[5] <= 7.635\\ngini = 0.5\\nsamples = 2\\nvalue = [1, 1]'),\n",
       " Text(41.544525547445254, 81.53999999999999, 'gini = 0.0\\nsamples = 1\\nvalue = [0, 1]'),\n",
       " Text(46.43211678832117, 81.53999999999999, 'gini = 0.0\\nsamples = 1\\nvalue = [1, 0]'),\n",
       " Text(48.87591240875913, 92.412, 'gini = 0.0\\nsamples = 5\\nvalue = [0, 5]'),\n",
       " Text(56.207299270072994, 103.28399999999999, 'X[5] <= 7.815\\ngini = 0.444\\nsamples = 3\\nvalue = [2, 1]'),\n",
       " Text(53.76350364963504, 92.412, 'gini = 0.0\\nsamples = 2\\nvalue = [2, 0]'),\n",
       " Text(58.65109489051095, 92.412, 'gini = 0.0\\nsamples = 1\\nvalue = [0, 1]'),\n",
       " Text(46.43211678832117, 125.02799999999999, 'gini = 0.0\\nsamples = 1\\nvalue = [1, 0]'),\n",
       " Text(46.43211678832117, 146.772, 'gini = 0.0\\nsamples = 2\\nvalue = [2, 0]'),\n",
       " Text(66.5934306569343, 157.644, 'X[2] <= 6.5\\ngini = 0.493\\nsamples = 59\\nvalue = [26, 33]'),\n",
       " Text(56.207299270072994, 146.772, 'X[3] <= 2.5\\ngini = 0.278\\nsamples = 12\\nvalue = [2, 10]'),\n",
       " Text(53.76350364963504, 135.9, 'X[5] <= 10.798\\ngini = 0.165\\nsamples = 11\\nvalue = [1, 10]'),\n",
       " Text(51.31970802919708, 125.02799999999999, 'gini = 0.0\\nsamples = 1\\nvalue = [1, 0]'),\n",
       " Text(56.207299270072994, 125.02799999999999, 'gini = 0.0\\nsamples = 10\\nvalue = [0, 10]'),\n",
       " Text(58.65109489051095, 135.9, 'gini = 0.0\\nsamples = 1\\nvalue = [1, 0]'),\n",
       " Text(76.97956204379562, 146.772, 'X[5] <= 15.373\\ngini = 0.5\\nsamples = 47\\nvalue = [24, 23]'),\n",
       " Text(68.42627737226277, 135.9, 'X[5] <= 13.438\\ngini = 0.471\\nsamples = 29\\nvalue = [18, 11]'),\n",
       " Text(61.09489051094891, 125.02799999999999, 'X[2] <= 19.0\\ngini = 0.5\\nsamples = 20\\nvalue = [10, 10]'),\n",
       " Text(58.65109489051095, 114.156, 'gini = 0.0\\nsamples = 5\\nvalue = [0, 5]'),\n",
       " Text(63.53868613138686, 114.156, 'X[2] <= 25.5\\ngini = 0.444\\nsamples = 15\\nvalue = [10, 5]'),\n",
       " Text(61.09489051094891, 103.28399999999999, 'gini = 0.0\\nsamples = 6\\nvalue = [6, 0]'),\n",
       " Text(65.98248175182482, 103.28399999999999, 'X[5] <= 8.673\\ngini = 0.494\\nsamples = 9\\nvalue = [4, 5]'),\n",
       " Text(63.53868613138686, 92.412, 'X[2] <= 27.5\\ngini = 0.444\\nsamples = 6\\nvalue = [4, 2]'),\n",
       " Text(61.09489051094891, 81.53999999999999, 'gini = 0.0\\nsamples = 2\\nvalue = [0, 2]'),\n",
       " Text(65.98248175182482, 81.53999999999999, 'gini = 0.0\\nsamples = 4\\nvalue = [4, 0]'),\n",
       " Text(68.42627737226277, 92.412, 'gini = 0.0\\nsamples = 3\\nvalue = [0, 3]'),\n",
       " Text(75.75766423357665, 125.02799999999999, 'X[2] <= 16.0\\ngini = 0.198\\nsamples = 9\\nvalue = [8, 1]'),\n",
       " Text(73.3138686131387, 114.156, 'X[2] <= 14.75\\ngini = 0.444\\nsamples = 3\\nvalue = [2, 1]'),\n",
       " Text(70.87007299270073, 103.28399999999999, 'gini = 0.0\\nsamples = 2\\nvalue = [2, 0]'),\n",
       " Text(75.75766423357665, 103.28399999999999, 'gini = 0.0\\nsamples = 1\\nvalue = [0, 1]'),\n",
       " Text(78.2014598540146, 114.156, 'gini = 0.0\\nsamples = 6\\nvalue = [6, 0]'),\n",
       " Text(85.53284671532847, 135.9, 'X[2] <= 21.0\\ngini = 0.444\\nsamples = 18\\nvalue = [6, 12]'),\n",
       " Text(83.08905109489051, 125.02799999999999, 'gini = 0.0\\nsamples = 3\\nvalue = [3, 0]'),\n",
       " Text(87.97664233576643, 125.02799999999999, 'X[2] <= 30.5\\ngini = 0.32\\nsamples = 15\\nvalue = [3, 12]'),\n",
       " Text(83.08905109489051, 114.156, 'X[2] <= 28.0\\ngini = 0.18\\nsamples = 10\\nvalue = [1, 9]'),\n",
       " Text(80.64525547445255, 103.28399999999999, 'X[3] <= 0.5\\ngini = 0.444\\nsamples = 3\\nvalue = [1, 2]'),\n",
       " Text(78.2014598540146, 92.412, 'gini = 0.0\\nsamples = 2\\nvalue = [0, 2]'),\n",
       " Text(83.08905109489051, 92.412, 'gini = 0.0\\nsamples = 1\\nvalue = [1, 0]'),\n",
       " Text(85.53284671532847, 103.28399999999999, 'gini = 0.0\\nsamples = 7\\nvalue = [0, 7]'),\n",
       " Text(92.86423357664233, 114.156, 'X[2] <= 32.5\\ngini = 0.48\\nsamples = 5\\nvalue = [2, 3]'),\n",
       " Text(90.42043795620438, 103.28399999999999, 'X[5] <= 19.262\\ngini = 0.444\\nsamples = 3\\nvalue = [2, 1]'),\n",
       " Text(87.97664233576643, 92.412, 'gini = 0.0\\nsamples = 2\\nvalue = [2, 0]'),\n",
       " Text(92.86423357664233, 92.412, 'gini = 0.0\\nsamples = 1\\nvalue = [0, 1]'),\n",
       " Text(95.3080291970803, 103.28399999999999, 'gini = 0.0\\nsamples = 2\\nvalue = [0, 2]'),\n",
       " Text(60.17846715328467, 168.516, 'gini = 0.0\\nsamples = 6\\nvalue = [6, 0]'),\n",
       " Text(86.75474452554745, 179.388, 'X[4] <= 0.5\\ngini = 0.227\\nsamples = 23\\nvalue = [20, 3]'),\n",
       " Text(84.3109489051095, 168.516, 'gini = 0.0\\nsamples = 1\\nvalue = [0, 1]'),\n",
       " Text(89.1985401459854, 168.516, 'X[2] <= 5.5\\ngini = 0.165\\nsamples = 22\\nvalue = [20, 2]'),\n",
       " Text(84.3109489051095, 157.644, 'X[5] <= 31.331\\ngini = 0.5\\nsamples = 2\\nvalue = [1, 1]'),\n",
       " Text(81.86715328467153, 146.772, 'gini = 0.0\\nsamples = 1\\nvalue = [1, 0]'),\n",
       " Text(86.75474452554745, 146.772, 'gini = 0.0\\nsamples = 1\\nvalue = [0, 1]'),\n",
       " Text(94.08613138686131, 157.644, 'X[4] <= 4.5\\ngini = 0.095\\nsamples = 20\\nvalue = [19, 1]'),\n",
       " Text(91.64233576642336, 146.772, 'gini = 0.0\\nsamples = 16\\nvalue = [16, 0]'),\n",
       " Text(96.52992700729928, 146.772, 'X[2] <= 38.5\\ngini = 0.375\\nsamples = 4\\nvalue = [3, 1]'),\n",
       " Text(94.08613138686131, 135.9, 'gini = 0.0\\nsamples = 1\\nvalue = [0, 1]'),\n",
       " Text(98.97372262773723, 135.9, 'gini = 0.0\\nsamples = 3\\nvalue = [3, 0]'),\n",
       " Text(146.7410968864051, 201.132, 'X[2] <= 13.5\\ngini = 0.301\\nsamples = 492\\nvalue = [401, 91]'),\n",
       " Text(108.74890510948906, 190.26, 'X[3] <= 2.5\\ngini = 0.492\\nsamples = 32\\nvalue = [14, 18]'),\n",
       " Text(103.86131386861314, 179.388, 'X[4] <= 0.5\\ngini = 0.105\\nsamples = 18\\nvalue = [1, 17]'),\n",
       " Text(101.41751824817518, 168.516, 'X[3] <= 0.5\\ngini = 0.5\\nsamples = 2\\nvalue = [1, 1]'),\n",
       " Text(98.97372262773723, 157.644, 'gini = 0.0\\nsamples = 1\\nvalue = [1, 0]'),\n",
       " Text(103.86131386861314, 157.644, 'gini = 0.0\\nsamples = 1\\nvalue = [0, 1]'),\n",
       " Text(106.3051094890511, 168.516, 'gini = 0.0\\nsamples = 16\\nvalue = [0, 16]'),\n",
       " Text(113.63649635036496, 179.388, 'X[2] <= 3.5\\ngini = 0.133\\nsamples = 14\\nvalue = [13, 1]'),\n",
       " Text(111.19270072992701, 168.516, 'X[2] <= 2.5\\ngini = 0.278\\nsamples = 6\\nvalue = [5, 1]'),\n",
       " Text(108.74890510948906, 157.644, 'gini = 0.0\\nsamples = 5\\nvalue = [5, 0]'),\n",
       " Text(113.63649635036496, 157.644, 'gini = 0.0\\nsamples = 1\\nvalue = [0, 1]'),\n",
       " Text(116.08029197080292, 168.516, 'gini = 0.0\\nsamples = 8\\nvalue = [8, 0]'),\n",
       " Text(184.73328866332116, 190.26, 'X[0] <= 1.5\\ngini = 0.267\\nsamples = 460\\nvalue = [387, 73]'),\n",
       " Text(138.99087591240877, 179.388, 'X[2] <= 53.0\\ngini = 0.437\\nsamples = 96\\nvalue = [65, 31]'),\n",
       " Text(120.96788321167884, 168.516, 'X[5] <= 26.144\\ngini = 0.467\\nsamples = 78\\nvalue = [49, 29]'),\n",
       " Text(118.52408759124089, 157.644, 'gini = 0.0\\nsamples = 7\\nvalue = [7, 0]'),\n",
       " Text(123.41167883211679, 157.644, 'X[5] <= 27.135\\ngini = 0.483\\nsamples = 71\\nvalue = [42, 29]'),\n",
       " Text(110.58175182481752, 146.772, 'X[5] <= 26.469\\ngini = 0.26\\nsamples = 13\\nvalue = [2, 11]'),\n",
       " Text(108.13795620437956, 135.9, 'gini = 0.0\\nsamples = 4\\nvalue = [0, 4]'),\n",
       " Text(113.02554744525548, 135.9, 'X[2] <= 46.5\\ngini = 0.346\\nsamples = 9\\nvalue = [2, 7]'),\n",
       " Text(110.58175182481752, 125.02799999999999, 'X[2] <= 40.0\\ngini = 0.408\\nsamples = 7\\nvalue = [2, 5]'),\n",
       " Text(108.13795620437956, 114.156, 'X[2] <= 32.0\\ngini = 0.32\\nsamples = 5\\nvalue = [1, 4]'),\n",
       " Text(105.69416058394161, 103.28399999999999, 'X[2] <= 29.0\\ngini = 0.444\\nsamples = 3\\nvalue = [1, 2]'),\n",
       " Text(103.25036496350366, 92.412, 'gini = 0.0\\nsamples = 1\\nvalue = [0, 1]'),\n",
       " Text(108.13795620437956, 92.412, 'gini = 0.5\\nsamples = 2\\nvalue = [1, 1]'),\n",
       " Text(110.58175182481752, 103.28399999999999, 'gini = 0.0\\nsamples = 2\\nvalue = [0, 2]'),\n",
       " Text(113.02554744525548, 114.156, 'gini = 0.5\\nsamples = 2\\nvalue = [1, 1]'),\n",
       " Text(115.46934306569344, 125.02799999999999, 'gini = 0.0\\nsamples = 2\\nvalue = [0, 2]'),\n",
       " Text(136.24160583941605, 146.772, 'X[5] <= 379.925\\ngini = 0.428\\nsamples = 58\\nvalue = [40, 18]'),\n",
       " Text(133.7978102189781, 135.9, 'X[3] <= 0.5\\ngini = 0.408\\nsamples = 56\\nvalue = [40, 16]'),\n",
       " Text(125.24452554744526, 125.02799999999999, 'X[2] <= 28.5\\ngini = 0.291\\nsamples = 34\\nvalue = [28, 6]'),\n",
       " Text(117.91313868613139, 114.156, 'X[5] <= 41.3\\ngini = 0.48\\nsamples = 10\\nvalue = [6, 4]'),\n",
       " Text(115.46934306569344, 103.28399999999999, 'gini = 0.0\\nsamples = 3\\nvalue = [0, 3]'),\n",
       " Text(120.35693430656934, 103.28399999999999, 'X[2] <= 19.0\\ngini = 0.245\\nsamples = 7\\nvalue = [6, 1]'),\n",
       " Text(117.91313868613139, 92.412, 'gini = 0.0\\nsamples = 1\\nvalue = [0, 1]'),\n",
       " Text(122.8007299270073, 92.412, 'gini = 0.0\\nsamples = 6\\nvalue = [6, 0]'),\n",
       " Text(132.57591240875914, 114.156, 'X[2] <= 51.5\\ngini = 0.153\\nsamples = 24\\nvalue = [22, 2]'),\n",
       " Text(130.13211678832118, 103.28399999999999, 'X[2] <= 39.0\\ngini = 0.083\\nsamples = 23\\nvalue = [22, 1]'),\n",
       " Text(127.68832116788322, 92.412, 'gini = 0.0\\nsamples = 15\\nvalue = [15, 0]'),\n",
       " Text(132.57591240875914, 92.412, 'X[2] <= 42.5\\ngini = 0.219\\nsamples = 8\\nvalue = [7, 1]'),\n",
       " Text(130.13211678832118, 81.53999999999999, 'gini = 0.0\\nsamples = 1\\nvalue = [0, 1]'),\n",
       " Text(135.0197080291971, 81.53999999999999, 'gini = 0.0\\nsamples = 7\\nvalue = [7, 0]'),\n",
       " Text(135.0197080291971, 103.28399999999999, 'gini = 0.0\\nsamples = 1\\nvalue = [0, 1]'),\n",
       " Text(142.35109489051095, 125.02799999999999, 'X[5] <= 52.277\\ngini = 0.496\\nsamples = 22\\nvalue = [12, 10]'),\n",
       " Text(139.907299270073, 114.156, 'gini = 0.0\\nsamples = 2\\nvalue = [2, 0]'),\n",
       " Text(144.7948905109489, 114.156, 'X[5] <= 52.827\\ngini = 0.5\\nsamples = 20\\nvalue = [10, 10]'),\n",
       " Text(142.35109489051095, 103.28399999999999, 'gini = 0.0\\nsamples = 2\\nvalue = [0, 2]'),\n",
       " Text(147.23868613138686, 103.28399999999999, 'X[6] <= 0.5\\ngini = 0.494\\nsamples = 18\\nvalue = [10, 8]'),\n",
       " Text(142.35109489051095, 92.412, 'X[5] <= 97.765\\ngini = 0.444\\nsamples = 6\\nvalue = [2, 4]'),\n",
       " Text(139.907299270073, 81.53999999999999, 'gini = 0.0\\nsamples = 4\\nvalue = [0, 4]'),\n",
       " Text(144.7948905109489, 81.53999999999999, 'gini = 0.0\\nsamples = 2\\nvalue = [2, 0]'),\n",
       " Text(152.1262773722628, 92.412, 'X[5] <= 111.825\\ngini = 0.444\\nsamples = 12\\nvalue = [8, 4]'),\n",
       " Text(149.6824817518248, 81.53999999999999, 'X[2] <= 41.0\\ngini = 0.397\\nsamples = 11\\nvalue = [8, 3]'),\n",
       " Text(147.23868613138686, 70.668, 'X[2] <= 37.5\\ngini = 0.49\\nsamples = 7\\nvalue = [4, 3]'),\n",
       " Text(144.7948905109489, 59.79599999999999, 'X[2] <= 33.5\\ngini = 0.444\\nsamples = 6\\nvalue = [4, 2]'),\n",
       " Text(142.35109489051095, 48.92400000000001, 'X[2] <= 23.0\\ngini = 0.5\\nsamples = 4\\nvalue = [2, 2]'),\n",
       " Text(139.907299270073, 38.05199999999999, 'gini = 0.0\\nsamples = 1\\nvalue = [1, 0]'),\n",
       " Text(144.7948905109489, 38.05199999999999, 'X[5] <= 61.8\\ngini = 0.444\\nsamples = 3\\nvalue = [1, 2]'),\n",
       " Text(142.35109489051095, 27.180000000000007, 'gini = 0.0\\nsamples = 2\\nvalue = [0, 2]'),\n",
       " Text(147.23868613138686, 27.180000000000007, 'gini = 0.0\\nsamples = 1\\nvalue = [1, 0]'),\n",
       " Text(147.23868613138686, 48.92400000000001, 'gini = 0.0\\nsamples = 2\\nvalue = [2, 0]'),\n",
       " Text(149.6824817518248, 59.79599999999999, 'gini = 0.0\\nsamples = 1\\nvalue = [0, 1]'),\n",
       " Text(152.1262773722628, 70.668, 'gini = 0.0\\nsamples = 4\\nvalue = [4, 0]'),\n",
       " Text(154.57007299270074, 81.53999999999999, 'gini = 0.0\\nsamples = 1\\nvalue = [0, 1]'),\n",
       " Text(138.685401459854, 135.9, 'gini = 0.0\\nsamples = 2\\nvalue = [0, 2]'),\n",
       " Text(157.0138686131387, 168.516, 'X[2] <= 75.5\\ngini = 0.198\\nsamples = 18\\nvalue = [16, 2]'),\n",
       " Text(154.57007299270074, 157.644, 'X[6] <= 1.0\\ngini = 0.111\\nsamples = 17\\nvalue = [16, 1]'),\n",
       " Text(152.1262773722628, 146.772, 'X[2] <= 57.0\\ngini = 0.278\\nsamples = 6\\nvalue = [5, 1]'),\n",
       " Text(149.6824817518248, 135.9, 'X[5] <= 33.098\\ngini = 0.5\\nsamples = 2\\nvalue = [1, 1]'),\n",
       " Text(147.23868613138686, 125.02799999999999, 'gini = 0.0\\nsamples = 1\\nvalue = [1, 0]'),\n",
       " Text(152.1262773722628, 125.02799999999999, 'gini = 0.0\\nsamples = 1\\nvalue = [0, 1]'),\n",
       " Text(154.57007299270074, 135.9, 'gini = 0.0\\nsamples = 4\\nvalue = [4, 0]'),\n",
       " Text(157.0138686131387, 146.772, 'gini = 0.0\\nsamples = 11\\nvalue = [11, 0]'),\n",
       " Text(159.45766423357665, 157.644, 'gini = 0.0\\nsamples = 1\\nvalue = [0, 1]'),\n",
       " Text(230.47570141423358, 179.388, 'X[6] <= 0.5\\ngini = 0.204\\nsamples = 364\\nvalue = [322, 42]'),\n",
       " Text(177.48065693430658, 168.516, 'X[2] <= 22.5\\ngini = 0.337\\nsamples = 42\\nvalue = [33, 9]'),\n",
       " Text(164.34525547445256, 157.644, 'X[2] <= 18.5\\ngini = 0.5\\nsamples = 6\\nvalue = [3, 3]'),\n",
       " Text(161.9014598540146, 146.772, 'gini = 0.0\\nsamples = 2\\nvalue = [2, 0]'),\n",
       " Text(166.7890510948905, 146.772, 'X[5] <= 5.619\\ngini = 0.375\\nsamples = 4\\nvalue = [1, 3]'),\n",
       " Text(164.34525547445256, 135.9, 'gini = 0.0\\nsamples = 1\\nvalue = [1, 0]'),\n",
       " Text(169.23284671532846, 135.9, 'gini = 0.0\\nsamples = 3\\nvalue = [0, 3]'),\n",
       " Text(190.6160583941606, 157.644, 'X[4] <= 0.5\\ngini = 0.278\\nsamples = 36\\nvalue = [30, 6]'),\n",
       " Text(182.67372262773722, 146.772, 'X[2] <= 29.5\\ngini = 0.219\\nsamples = 32\\nvalue = [28, 4]'),\n",
       " Text(174.1204379562044, 135.9, 'X[3] <= 0.5\\ngini = 0.375\\nsamples = 8\\nvalue = [6, 2]'),\n",
       " Text(171.67664233576642, 125.02799999999999, 'X[5] <= 7.562\\ngini = 0.48\\nsamples = 5\\nvalue = [3, 2]'),\n",
       " Text(169.23284671532846, 114.156, 'gini = 0.0\\nsamples = 2\\nvalue = [2, 0]'),\n",
       " Text(174.1204379562044, 114.156, 'X[2] <= 24.5\\ngini = 0.444\\nsamples = 3\\nvalue = [1, 2]'),\n",
       " Text(171.67664233576642, 103.28399999999999, 'gini = 0.0\\nsamples = 1\\nvalue = [1, 0]'),\n",
       " Text(176.56423357664235, 103.28399999999999, 'gini = 0.0\\nsamples = 2\\nvalue = [0, 2]'),\n",
       " Text(176.56423357664235, 125.02799999999999, 'gini = 0.0\\nsamples = 3\\nvalue = [3, 0]'),\n",
       " Text(191.22700729927007, 135.9, 'X[0] <= 2.5\\ngini = 0.153\\nsamples = 24\\nvalue = [22, 2]'),\n",
       " Text(186.33941605839416, 125.02799999999999, 'X[5] <= 18.931\\ngini = 0.375\\nsamples = 4\\nvalue = [3, 1]'),\n",
       " Text(183.8956204379562, 114.156, 'X[2] <= 33.0\\ngini = 0.5\\nsamples = 2\\nvalue = [1, 1]'),\n",
       " Text(181.45182481751826, 103.28399999999999, 'gini = 0.0\\nsamples = 1\\nvalue = [0, 1]'),\n",
       " Text(186.33941605839416, 103.28399999999999, 'gini = 0.0\\nsamples = 1\\nvalue = [1, 0]'),\n",
       " Text(188.78321167883212, 114.156, 'gini = 0.0\\nsamples = 2\\nvalue = [2, 0]'),\n",
       " Text(196.114598540146, 125.02799999999999, 'X[5] <= 7.227\\ngini = 0.095\\nsamples = 20\\nvalue = [19, 1]'),\n",
       " Text(193.67080291970802, 114.156, 'gini = 0.0\\nsamples = 8\\nvalue = [8, 0]'),\n",
       " Text(198.55839416058396, 114.156, 'X[5] <= 7.562\\ngini = 0.153\\nsamples = 12\\nvalue = [11, 1]'),\n",
       " Text(196.114598540146, 103.28399999999999, 'gini = 0.278\\nsamples = 6\\nvalue = [5, 1]'),\n",
       " Text(201.0021897810219, 103.28399999999999, 'gini = 0.0\\nsamples = 6\\nvalue = [6, 0]'),\n",
       " Text(198.55839416058396, 146.772, 'X[0] <= 2.5\\ngini = 0.5\\nsamples = 4\\nvalue = [2, 2]'),\n",
       " Text(196.114598540146, 135.9, 'gini = 0.0\\nsamples = 2\\nvalue = [2, 0]'),\n",
       " Text(201.0021897810219, 135.9, 'gini = 0.0\\nsamples = 2\\nvalue = [0, 2]'),\n",
       " Text(283.4707458941606, 168.516, 'X[3] <= 0.5\\ngini = 0.184\\nsamples = 322\\nvalue = [289, 33]'),\n",
       " Text(261.7725136861314, 157.644, 'X[5] <= 41.248\\ngini = 0.205\\nsamples = 267\\nvalue = [236, 31]'),\n",
       " Text(233.03882299270074, 146.772, 'X[5] <= 13.25\\ngini = 0.192\\nsamples = 260\\nvalue = [232, 28]'),\n",
       " Text(230.5950273722628, 135.9, 'X[5] <= 7.91\\ngini = 0.207\\nsamples = 239\\nvalue = [211, 28]'),\n",
       " Text(210.77737226277372, 125.02799999999999, 'X[5] <= 7.865\\ngini = 0.141\\nsamples = 118\\nvalue = [109, 9]'),\n",
       " Text(208.33357664233577, 114.156, 'X[2] <= 32.5\\ngini = 0.18\\nsamples = 90\\nvalue = [81, 9]'),\n",
       " Text(205.88978102189782, 103.28399999999999, 'X[2] <= 31.5\\ngini = 0.224\\nsamples = 70\\nvalue = [61, 9]'),\n",
       " Text(203.44598540145986, 92.412, 'X[2] <= 23.5\\ngini = 0.205\\nsamples = 69\\nvalue = [61, 8]'),\n",
       " Text(190.6160583941606, 81.53999999999999, 'X[5] <= 7.785\\ngini = 0.083\\nsamples = 23\\nvalue = [22, 1]'),\n",
       " Text(188.17226277372262, 70.668, 'gini = 0.0\\nsamples = 15\\nvalue = [15, 0]'),\n",
       " Text(193.05985401459856, 70.668, 'X[5] <= 7.798\\ngini = 0.219\\nsamples = 8\\nvalue = [7, 1]'),\n",
       " Text(190.6160583941606, 59.79599999999999, 'X[2] <= 19.5\\ngini = 0.444\\nsamples = 3\\nvalue = [2, 1]'),\n",
       " Text(188.17226277372262, 48.92400000000001, 'gini = 0.0\\nsamples = 1\\nvalue = [1, 0]'),\n",
       " Text(193.05985401459856, 48.92400000000001, 'X[2] <= 21.5\\ngini = 0.5\\nsamples = 2\\nvalue = [1, 1]'),\n",
       " Text(190.6160583941606, 38.05199999999999, 'gini = 0.0\\nsamples = 1\\nvalue = [0, 1]'),\n",
       " Text(195.5036496350365, 38.05199999999999, 'gini = 0.0\\nsamples = 1\\nvalue = [1, 0]'),\n",
       " Text(195.5036496350365, 59.79599999999999, 'gini = 0.0\\nsamples = 5\\nvalue = [5, 0]'),\n",
       " Text(216.27591240875913, 81.53999999999999, 'X[2] <= 29.5\\ngini = 0.258\\nsamples = 46\\nvalue = [39, 7]'),\n",
       " Text(205.27883211678832, 70.668, 'X[5] <= 7.013\\ngini = 0.43\\nsamples = 16\\nvalue = [11, 5]'),\n",
       " Text(202.83503649635037, 59.79599999999999, 'gini = 0.0\\nsamples = 2\\nvalue = [0, 2]'),\n",
       " Text(207.72262773722628, 59.79599999999999, 'X[2] <= 26.5\\ngini = 0.337\\nsamples = 14\\nvalue = [11, 3]'),\n",
       " Text(202.83503649635037, 48.92400000000001, 'X[5] <= 7.196\\ngini = 0.198\\nsamples = 9\\nvalue = [8, 1]'),\n",
       " Text(200.39124087591242, 38.05199999999999, 'X[5] <= 7.096\\ngini = 0.444\\nsamples = 3\\nvalue = [2, 1]'),\n",
       " Text(197.94744525547446, 27.180000000000007, 'gini = 0.0\\nsamples = 2\\nvalue = [2, 0]'),\n",
       " Text(202.83503649635037, 27.180000000000007, 'gini = 0.0\\nsamples = 1\\nvalue = [0, 1]'),\n",
       " Text(205.27883211678832, 38.05199999999999, 'gini = 0.0\\nsamples = 6\\nvalue = [6, 0]'),\n",
       " Text(212.6102189781022, 48.92400000000001, 'X[6] <= 1.5\\ngini = 0.48\\nsamples = 5\\nvalue = [3, 2]'),\n",
       " Text(210.16642335766423, 38.05199999999999, 'gini = 0.0\\nsamples = 1\\nvalue = [0, 1]'),\n",
       " Text(215.05401459854016, 38.05199999999999, 'X[2] <= 27.5\\ngini = 0.375\\nsamples = 4\\nvalue = [3, 1]'),\n",
       " Text(212.6102189781022, 27.180000000000007, 'gini = 0.0\\nsamples = 1\\nvalue = [0, 1]'),\n",
       " Text(217.49781021897812, 27.180000000000007, 'gini = 0.0\\nsamples = 3\\nvalue = [3, 0]'),\n",
       " Text(227.27299270072993, 70.668, 'X[5] <= 7.763\\ngini = 0.124\\nsamples = 30\\nvalue = [28, 2]'),\n",
       " Text(219.94160583941607, 59.79599999999999, 'X[5] <= 7.742\\ngini = 0.074\\nsamples = 26\\nvalue = [25, 1]'),\n",
       " Text(217.49781021897812, 48.92400000000001, 'gini = 0.0\\nsamples = 16\\nvalue = [16, 0]'),\n",
       " Text(222.38540145985402, 48.92400000000001, 'X[2] <= 30.5\\ngini = 0.18\\nsamples = 10\\nvalue = [9, 1]'),\n",
       " Text(219.94160583941607, 38.05199999999999, 'gini = 0.198\\nsamples = 9\\nvalue = [8, 1]'),\n",
       " Text(224.82919708029198, 38.05199999999999, 'gini = 0.0\\nsamples = 1\\nvalue = [1, 0]'),\n",
       " Text(234.6043795620438, 59.79599999999999, 'X[2] <= 30.5\\ngini = 0.375\\nsamples = 4\\nvalue = [3, 1]'),\n",
       " Text(232.16058394160584, 48.92400000000001, 'X[5] <= 7.802\\ngini = 0.444\\nsamples = 3\\nvalue = [2, 1]'),\n",
       " Text(229.71678832116788, 38.05199999999999, 'gini = 0.5\\nsamples = 2\\nvalue = [1, 1]'),\n",
       " Text(234.6043795620438, 38.05199999999999, 'gini = 0.0\\nsamples = 1\\nvalue = [1, 0]'),\n",
       " Text(237.04817518248177, 48.92400000000001, 'gini = 0.0\\nsamples = 1\\nvalue = [1, 0]'),\n",
       " Text(208.33357664233577, 92.412, 'gini = 0.0\\nsamples = 1\\nvalue = [0, 1]'),\n",
       " Text(210.77737226277372, 103.28399999999999, 'gini = 0.0\\nsamples = 20\\nvalue = [20, 0]'),\n",
       " Text(213.22116788321168, 114.156, 'gini = 0.0\\nsamples = 28\\nvalue = [28, 0]'),\n",
       " Text(250.41268248175183, 125.02799999999999, 'X[5] <= 7.988\\ngini = 0.265\\nsamples = 121\\nvalue = [102, 19]'),\n",
       " Text(232.16058394160584, 114.156, 'X[2] <= 26.0\\ngini = 0.48\\nsamples = 10\\nvalue = [6, 4]'),\n",
       " Text(229.71678832116788, 103.28399999999999, 'gini = 0.0\\nsamples = 3\\nvalue = [3, 0]'),\n",
       " Text(234.6043795620438, 103.28399999999999, 'X[2] <= 31.5\\ngini = 0.49\\nsamples = 7\\nvalue = [3, 4]'),\n",
       " Text(232.16058394160584, 92.412, 'gini = 0.0\\nsamples = 1\\nvalue = [0, 1]'),\n",
       " Text(237.04817518248177, 92.412, 'X[2] <= 41.5\\ngini = 0.5\\nsamples = 6\\nvalue = [3, 3]'),\n",
       " Text(234.6043795620438, 81.53999999999999, 'X[2] <= 35.5\\ngini = 0.48\\nsamples = 5\\nvalue = [3, 2]'),\n",
       " Text(232.16058394160584, 70.668, 'gini = 0.444\\nsamples = 3\\nvalue = [2, 1]'),\n",
       " Text(237.04817518248177, 70.668, 'gini = 0.5\\nsamples = 2\\nvalue = [1, 1]'),\n",
       " Text(239.49197080291972, 81.53999999999999, 'gini = 0.0\\nsamples = 1\\nvalue = [0, 1]'),\n",
       " Text(268.6647810218978, 114.156, 'X[2] <= 19.5\\ngini = 0.234\\nsamples = 111\\nvalue = [96, 15]'),\n",
       " Text(251.7109489051095, 103.28399999999999, 'X[5] <= 8.104\\ngini = 0.332\\nsamples = 19\\nvalue = [15, 4]'),\n",
       " Text(246.82335766423358, 92.412, 'X[2] <= 17.0\\ngini = 0.48\\nsamples = 5\\nvalue = [2, 3]'),\n",
       " Text(244.37956204379563, 81.53999999999999, 'gini = 0.5\\nsamples = 2\\nvalue = [1, 1]'),\n",
       " Text(249.26715328467154, 81.53999999999999, 'X[2] <= 18.5\\ngini = 0.444\\nsamples = 3\\nvalue = [1, 2]'),\n",
       " Text(246.82335766423358, 70.668, 'gini = 0.0\\nsamples = 1\\nvalue = [0, 1]'),\n",
       " Text(251.7109489051095, 70.668, 'gini = 0.5\\nsamples = 2\\nvalue = [1, 1]'),\n",
       " Text(256.5985401459854, 92.412, 'X[2] <= 18.5\\ngini = 0.133\\nsamples = 14\\nvalue = [13, 1]'),\n",
       " Text(254.15474452554744, 81.53999999999999, 'gini = 0.0\\nsamples = 9\\nvalue = [9, 0]'),\n",
       " Text(259.0423357664234, 81.53999999999999, 'X[5] <= 10.335\\ngini = 0.32\\nsamples = 5\\nvalue = [4, 1]'),\n",
       " Text(256.5985401459854, 70.668, 'gini = 0.0\\nsamples = 2\\nvalue = [2, 0]'),\n",
       " Text(261.4861313868613, 70.668, 'X[5] <= 11.75\\ngini = 0.444\\nsamples = 3\\nvalue = [2, 1]'),\n",
       " Text(259.0423357664234, 59.79599999999999, 'gini = 0.5\\nsamples = 2\\nvalue = [1, 1]'),\n",
       " Text(263.9299270072993, 59.79599999999999, 'gini = 0.0\\nsamples = 1\\nvalue = [1, 0]'),\n",
       " Text(285.61861313868616, 103.28399999999999, 'X[2] <= 26.5\\ngini = 0.211\\nsamples = 92\\nvalue = [81, 11]'),\n",
       " Text(283.1748175182482, 92.412, 'gini = 0.0\\nsamples = 23\\nvalue = [23, 0]'),\n",
       " Text(288.0624087591241, 92.412, 'X[5] <= 8.081\\ngini = 0.268\\nsamples = 69\\nvalue = [58, 11]'),\n",
       " Text(268.8175182481752, 81.53999999999999, 'X[2] <= 31.25\\ngini = 0.142\\nsamples = 26\\nvalue = [24, 2]'),\n",
       " Text(266.3737226277372, 70.668, 'gini = 0.0\\nsamples = 15\\nvalue = [15, 0]'),\n",
       " Text(271.2613138686132, 70.668, 'X[2] <= 33.0\\ngini = 0.298\\nsamples = 11\\nvalue = [9, 2]'),\n",
       " Text(268.8175182481752, 59.79599999999999, 'gini = 0.0\\nsamples = 1\\nvalue = [0, 1]'),\n",
       " Text(273.7051094890511, 59.79599999999999, 'X[2] <= 44.5\\ngini = 0.18\\nsamples = 10\\nvalue = [9, 1]'),\n",
       " Text(271.2613138686132, 48.92400000000001, 'gini = 0.0\\nsamples = 6\\nvalue = [6, 0]'),\n",
       " Text(276.1489051094891, 48.92400000000001, 'X[2] <= 47.5\\ngini = 0.375\\nsamples = 4\\nvalue = [3, 1]'),\n",
       " Text(273.7051094890511, 38.05199999999999, 'gini = 0.0\\nsamples = 1\\nvalue = [0, 1]'),\n",
       " Text(278.592700729927, 38.05199999999999, 'gini = 0.0\\nsamples = 3\\nvalue = [3, 0]'),\n",
       " Text(307.30729927007303, 81.53999999999999, 'X[5] <= 8.238\\ngini = 0.331\\nsamples = 43\\nvalue = [34, 9]'),\n",
       " Text(304.86350364963505, 70.668, 'gini = 0.0\\nsamples = 1\\nvalue = [0, 1]'),\n",
       " Text(309.75109489051096, 70.668, 'X[2] <= 31.5\\ngini = 0.308\\nsamples = 42\\nvalue = [34, 8]'),\n",
       " Text(294.4773722627737, 59.79599999999999, 'X[0] <= 2.5\\ngini = 0.401\\nsamples = 18\\nvalue = [13, 5]'),\n",
       " Text(288.3678832116788, 48.92400000000001, 'X[2] <= 30.5\\ngini = 0.298\\nsamples = 11\\nvalue = [9, 2]'),\n",
       " Text(283.4802919708029, 38.05199999999999, 'X[2] <= 29.5\\ngini = 0.198\\nsamples = 9\\nvalue = [8, 1]'),\n",
       " Text(281.036496350365, 27.180000000000007, 'gini = 0.0\\nsamples = 4\\nvalue = [4, 0]'),\n",
       " Text(285.9240875912409, 27.180000000000007, 'X[5] <= 11.75\\ngini = 0.32\\nsamples = 5\\nvalue = [4, 1]'),\n",
       " Text(283.4802919708029, 16.307999999999993, 'gini = 0.0\\nsamples = 1\\nvalue = [1, 0]'),\n",
       " Text(288.3678832116788, 16.307999999999993, 'gini = 0.375\\nsamples = 4\\nvalue = [3, 1]'),\n",
       " Text(293.2554744525548, 38.05199999999999, 'X[5] <= 11.75\\ngini = 0.5\\nsamples = 2\\nvalue = [1, 1]'),\n",
       " Text(290.8116788321168, 27.180000000000007, 'gini = 0.0\\nsamples = 1\\nvalue = [1, 0]'),\n",
       " Text(295.6992700729927, 27.180000000000007, 'gini = 0.0\\nsamples = 1\\nvalue = [0, 1]'),\n",
       " Text(300.5868613138686, 48.92400000000001, 'X[2] <= 27.5\\ngini = 0.49\\nsamples = 7\\nvalue = [4, 3]'),\n",
       " Text(298.1430656934307, 38.05199999999999, 'gini = 0.0\\nsamples = 1\\nvalue = [0, 1]'),\n",
       " Text(303.0306569343066, 38.05199999999999, 'X[5] <= 9.492\\ngini = 0.444\\nsamples = 6\\nvalue = [4, 2]'),\n",
       " Text(300.5868613138686, 27.180000000000007, 'gini = 0.0\\nsamples = 2\\nvalue = [2, 0]'),\n",
       " Text(305.4744525547445, 27.180000000000007, 'X[2] <= 28.5\\ngini = 0.5\\nsamples = 4\\nvalue = [2, 2]'),\n",
       " Text(303.0306569343066, 16.307999999999993, 'gini = 0.0\\nsamples = 1\\nvalue = [1, 0]'),\n",
       " Text(307.9182481751825, 16.307999999999993, 'X[2] <= 29.5\\ngini = 0.444\\nsamples = 3\\nvalue = [1, 2]'),\n",
       " Text(305.4744525547445, 5.436000000000007, 'gini = 0.0\\nsamples = 1\\nvalue = [0, 1]'),\n",
       " Text(310.3620437956204, 5.436000000000007, 'gini = 0.5\\nsamples = 2\\nvalue = [1, 1]'),\n",
       " Text(325.0248175182482, 59.79599999999999, 'X[2] <= 59.5\\ngini = 0.219\\nsamples = 24\\nvalue = [21, 3]'),\n",
       " Text(320.1372262773723, 48.92400000000001, 'X[5] <= 12.675\\ngini = 0.172\\nsamples = 21\\nvalue = [19, 2]'),\n",
       " Text(317.6934306569343, 38.05199999999999, 'gini = 0.0\\nsamples = 11\\nvalue = [11, 0]'),\n",
       " Text(322.5810218978102, 38.05199999999999, 'X[2] <= 45.0\\ngini = 0.32\\nsamples = 10\\nvalue = [8, 2]'),\n",
       " Text(320.1372262773723, 27.180000000000007, 'X[2] <= 40.5\\ngini = 0.408\\nsamples = 7\\nvalue = [5, 2]'),\n",
       " Text(317.6934306569343, 16.307999999999993, 'X[2] <= 35.0\\ngini = 0.32\\nsamples = 5\\nvalue = [4, 1]'),\n",
       " Text(315.2496350364964, 5.436000000000007, 'gini = 0.444\\nsamples = 3\\nvalue = [2, 1]'),\n",
       " Text(320.1372262773723, 5.436000000000007, 'gini = 0.0\\nsamples = 2\\nvalue = [2, 0]'),\n",
       " Text(322.5810218978102, 16.307999999999993, 'gini = 0.5\\nsamples = 2\\nvalue = [1, 1]'),\n",
       " Text(325.0248175182482, 27.180000000000007, 'gini = 0.0\\nsamples = 3\\nvalue = [3, 0]'),\n",
       " Text(329.9124087591241, 48.92400000000001, 'X[2] <= 64.0\\ngini = 0.444\\nsamples = 3\\nvalue = [2, 1]'),\n",
       " Text(327.4686131386861, 38.05199999999999, 'gini = 0.0\\nsamples = 1\\nvalue = [0, 1]'),\n",
       " Text(332.35620437956203, 38.05199999999999, 'gini = 0.0\\nsamples = 2\\nvalue = [2, 0]'),\n",
       " Text(235.4826186131387, 135.9, 'gini = 0.0\\nsamples = 21\\nvalue = [21, 0]'),\n",
       " Text(290.50620437956206, 146.772, 'X[5] <= 64.998\\ngini = 0.49\\nsamples = 7\\nvalue = [4, 3]'),\n",
       " Text(288.0624087591241, 135.9, 'X[2] <= 27.0\\ngini = 0.48\\nsamples = 5\\nvalue = [2, 3]'),\n",
       " Text(285.61861313868616, 125.02799999999999, 'gini = 0.0\\nsamples = 1\\nvalue = [0, 1]'),\n",
       " Text(290.50620437956206, 125.02799999999999, 'X[2] <= 29.0\\ngini = 0.5\\nsamples = 4\\nvalue = [2, 2]'),\n",
       " Text(288.0624087591241, 114.156, 'gini = 0.0\\nsamples = 1\\nvalue = [1, 0]'),\n",
       " Text(292.95, 114.156, 'X[2] <= 31.0\\ngini = 0.444\\nsamples = 3\\nvalue = [1, 2]'),\n",
       " Text(290.50620437956206, 103.28399999999999, 'gini = 0.5\\nsamples = 2\\nvalue = [1, 1]'),\n",
       " Text(295.39379562043797, 103.28399999999999, 'gini = 0.0\\nsamples = 1\\nvalue = [0, 1]'),\n",
       " Text(292.95, 135.9, 'gini = 0.0\\nsamples = 2\\nvalue = [2, 0]'),\n",
       " Text(305.1689781021898, 157.644, 'X[2] <= 20.5\\ngini = 0.07\\nsamples = 55\\nvalue = [53, 2]'),\n",
       " Text(300.2813868613139, 146.772, 'X[2] <= 19.0\\ngini = 0.245\\nsamples = 7\\nvalue = [6, 1]'),\n",
       " Text(297.8375912408759, 135.9, 'gini = 0.0\\nsamples = 6\\nvalue = [6, 0]'),\n",
       " Text(302.72518248175186, 135.9, 'gini = 0.0\\nsamples = 1\\nvalue = [0, 1]'),\n",
       " Text(310.0565693430657, 146.772, 'X[0] <= 2.5\\ngini = 0.041\\nsamples = 48\\nvalue = [47, 1]'),\n",
       " Text(307.61277372262776, 135.9, 'X[2] <= 33.0\\ngini = 0.117\\nsamples = 16\\nvalue = [15, 1]'),\n",
       " Text(305.1689781021898, 125.02799999999999, 'X[2] <= 31.5\\ngini = 0.245\\nsamples = 7\\nvalue = [6, 1]'),\n",
       " Text(302.72518248175186, 114.156, 'gini = 0.0\\nsamples = 5\\nvalue = [5, 0]'),\n",
       " Text(307.61277372262776, 114.156, 'X[5] <= 49.75\\ngini = 0.5\\nsamples = 2\\nvalue = [1, 1]'),\n",
       " Text(305.1689781021898, 103.28399999999999, 'gini = 0.0\\nsamples = 1\\nvalue = [0, 1]'),\n",
       " Text(310.0565693430657, 103.28399999999999, 'gini = 0.0\\nsamples = 1\\nvalue = [1, 0]'),\n",
       " Text(310.0565693430657, 125.02799999999999, 'gini = 0.0\\nsamples = 9\\nvalue = [9, 0]'),\n",
       " Text(312.50036496350367, 135.9, 'gini = 0.0\\nsamples = 32\\nvalue = [32, 0]')]"
      ]
     },
     "execution_count": 45,
     "metadata": {},
     "output_type": "execute_result"
    },
    {
     "data": {
      "image/png": "[encoded data removed]",
      "text/plain": [
       "<Figure size 432x288 with 1 Axes>"
      ]
     },
     "metadata": {
      "needs_background": "light"
     },
     "output_type": "display_data"
    }
   ],
   "source": [
    "tree.plot_tree(model)"
   ]
  },
  {
   "cell_type": "code",
   "execution_count": 46,
   "id": "847752c4",
   "metadata": {},
   "outputs": [],
   "source": [
    "#Hyper-Parameter Tuning"
   ]
  },
  {
   "cell_type": "code",
   "execution_count": 47,
   "id": "617ac0df",
   "metadata": {},
   "outputs": [],
   "source": [
    "model1=DecisionTreeClassifier(max_leaf_nodes=10)#max 10 leafs bro "
   ]
  },
  {
   "cell_type": "code",
   "execution_count": 48,
   "id": "cbe69775",
   "metadata": {},
   "outputs": [
    {
     "name": "stdout",
     "output_type": "stream",
     "text": [
      "Train Accuracy:  0.8401585204755614\n",
      "Test Accuracy:  0.8208955223880597\n"
     ]
    }
   ],
   "source": [
    "model1.fit(x_train,y_train)\n",
    "y_pred=model1.predict(x_test)\n",
    "print(\"Train Accuracy: \",model1.score(x_train,y_train))\n",
    "print(\"Test Accuracy: \",model1.score(x_test,y_test))"
   ]
  },
  {
   "cell_type": "code",
   "execution_count": 49,
   "id": "ea1b3337",
   "metadata": {},
   "outputs": [
    {
     "data": {
      "text/plain": [
       "[Text(141.64615384615385, 199.32, 'X[1] <= 0.5\\ngini = 0.471\\nsamples = 757\\nvalue = [470, 287]'),\n",
       " Text(51.50769230769231, 163.07999999999998, 'X[0] <= 2.5\\ngini = 0.385\\nsamples = 265\\nvalue = [69, 196]'),\n",
       " Text(25.753846153846155, 126.83999999999999, 'gini = 0.108\\nsamples = 140\\nvalue = [8, 132]'),\n",
       " Text(77.26153846153846, 126.83999999999999, 'X[5] <= 23.35\\ngini = 0.5\\nsamples = 125\\nvalue = [61, 64]'),\n",
       " Text(51.50769230769231, 90.6, 'X[2] <= 36.5\\ngini = 0.481\\nsamples = 102\\nvalue = [41, 61]'),\n",
       " Text(25.753846153846155, 54.359999999999985, 'gini = 0.463\\nsamples = 96\\nvalue = [35, 61]'),\n",
       " Text(77.26153846153846, 54.359999999999985, 'gini = 0.0\\nsamples = 6\\nvalue = [6, 0]'),\n",
       " Text(103.01538461538462, 90.6, 'gini = 0.227\\nsamples = 23\\nvalue = [20, 3]'),\n",
       " Text(231.7846153846154, 163.07999999999998, 'X[2] <= 13.5\\ngini = 0.301\\nsamples = 492\\nvalue = [401, 91]'),\n",
       " Text(180.27692307692308, 126.83999999999999, 'X[3] <= 2.5\\ngini = 0.492\\nsamples = 32\\nvalue = [14, 18]'),\n",
       " Text(154.52307692307693, 90.6, 'gini = 0.105\\nsamples = 18\\nvalue = [1, 17]'),\n",
       " Text(206.03076923076924, 90.6, 'gini = 0.133\\nsamples = 14\\nvalue = [13, 1]'),\n",
       " Text(283.2923076923077, 126.83999999999999, 'X[0] <= 1.5\\ngini = 0.267\\nsamples = 460\\nvalue = [387, 73]'),\n",
       " Text(257.53846153846155, 90.6, 'X[2] <= 53.0\\ngini = 0.437\\nsamples = 96\\nvalue = [65, 31]'),\n",
       " Text(231.7846153846154, 54.359999999999985, 'X[5] <= 26.144\\ngini = 0.467\\nsamples = 78\\nvalue = [49, 29]'),\n",
       " Text(206.03076923076924, 18.119999999999976, 'gini = 0.0\\nsamples = 7\\nvalue = [7, 0]'),\n",
       " Text(257.53846153846155, 18.119999999999976, 'gini = 0.483\\nsamples = 71\\nvalue = [42, 29]'),\n",
       " Text(283.2923076923077, 54.359999999999985, 'gini = 0.198\\nsamples = 18\\nvalue = [16, 2]'),\n",
       " Text(309.04615384615386, 90.6, 'gini = 0.204\\nsamples = 364\\nvalue = [322, 42]')]"
      ]
     },
     "execution_count": 49,
     "metadata": {},
     "output_type": "execute_result"
    },
    {
     "data": {
      "image/png": "[encoded data removed]",
      "text/plain": [
       "<Figure size 432x288 with 1 Axes>"
      ]
     },
     "metadata": {
      "needs_background": "light"
     },
     "output_type": "display_data"
    }
   ],
   "source": [
    "tree.plot_tree(model1)"
   ]
  },
  {
   "cell_type": "code",
   "execution_count": null,
   "id": "fe97e80f",
   "metadata": {},
   "outputs": [],
   "source": []
  }
 ],
 "metadata": {
  "kernelspec": {
   "display_name": "Python 3 (ipykernel)",
   "language": "python",
   "name": "python3"
  },
  "language_info": {
   "codemirror_mode": {
    "name": "ipython",
    "version": 3
   },
   "file_extension": ".py",
   "mimetype": "text/x-python",
   "name": "python",
   "nbconvert_exporter": "python",
   "pygments_lexer": "ipython3",
   "version": "3.9.7"
  }
 },
 "nbformat": 4,
 "nbformat_minor": 5
}
